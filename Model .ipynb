{
 "cells": [
  {
   "cell_type": "markdown",
   "id": "dfe18dfa",
   "metadata": {},
   "source": [
    "Name: Lany Malis\n",
    "<br>\n",
    "Class: ITE-A\n",
    "<br>\n",
    "Project: Animal Recognition Using Super Vector Machine\n",
    "<br>\n",
    "Step2:Prediction  "
   ]
  },
  {
   "cell_type": "markdown",
   "id": "2a7a180d",
   "metadata": {},
   "source": [
    "# Animal Recognition Using Super Vector Machine"
   ]
  },
  {
   "cell_type": "markdown",
   "id": "1919b054",
   "metadata": {},
   "source": [
    " "
   ]
  },
  {
   "cell_type": "markdown",
   "id": "a5af3088",
   "metadata": {},
   "source": [
    "## 1. Library"
   ]
  },
  {
   "cell_type": "markdown",
   "id": "be4ab611",
   "metadata": {},
   "source": [
    "- pickle : for saving and loading module\n",
    "- random : for generating and shuffling sequence \n",
    "- matplotlib : for visualization date\n",
    "- sklearn.model_selection : for splitting the data into training and testing sets\n",
    "- sklearn.svm : for implementing SVMs module"
   ]
  },
  {
   "cell_type": "code",
   "execution_count": 3,
   "id": "b6959d03",
   "metadata": {},
   "outputs": [],
   "source": [
    "#Library \n",
    "import pickle                                           \n",
    "import random                                           \n",
    "import matplotlib.pyplot as plt                         \n",
    "from sklearn.model_selection import train_test_split    \n",
    "from sklearn.svm import SVC                             "
   ]
  },
  {
   "cell_type": "markdown",
   "id": "b316c091",
   "metadata": {},
   "source": [
    "## 2. Data Loading"
   ]
  },
  {
   "cell_type": "markdown",
   "id": "f414e650",
   "metadata": {},
   "source": [
    "First, we load data that already preprocessed by using pickle. Second, we use random to shuffle data inpurpose to make it more robustness and generalizable. Third, we create two list which are feature and labels for storing data feature and label. Last, we train the data in half of size of test data. "
   ]
  },
  {
   "cell_type": "code",
   "execution_count": 4,
   "id": "5028969c",
   "metadata": {},
   "outputs": [],
   "source": [
    "#Load and Read data store in data \n",
    "pick_in = open('data1.pickle', 'rb')\n",
    "data = pickle.load(pick_in)\n",
    "pick_in.close()"
   ]
  },
  {
   "cell_type": "code",
   "execution_count": 5,
   "id": "96c990a5",
   "metadata": {},
   "outputs": [],
   "source": [
    "#Initialize features and labels\n",
    "random.shuffle(data) \n",
    "features = []\n",
    "labels = []"
   ]
  },
  {
   "cell_type": "code",
   "execution_count": 6,
   "id": "d1f2ae71",
   "metadata": {},
   "outputs": [],
   "source": [
    "#Get feature and label from data store in each arrays\n",
    "for feature, label in data:\n",
    "    features.append(feature)\n",
    "    labels.append(label)"
   ]
  },
  {
   "cell_type": "code",
   "execution_count": 9,
   "id": "1964ba75",
   "metadata": {},
   "outputs": [],
   "source": [
    "#50% of Data is token for testing\n",
    "xtrain, xtest, ytrain, ytest = train_test_split(features, labels, test_size = 0.50)"
   ]
  },
  {
   "cell_type": "markdown",
   "id": "5b580c33",
   "metadata": {},
   "source": [
    "## 3. Prediction"
   ]
  },
  {
   "cell_type": "markdown",
   "id": "eefbbad3",
   "metadata": {},
   "source": [
    "For the prediction, we test the model by creating prediction and accuracy to evaluate the model while testing and we show the result."
   ]
  },
  {
   "cell_type": "code",
   "execution_count": 11,
   "id": "957b87db",
   "metadata": {},
   "outputs": [
    {
     "name": "stdout",
     "output_type": "stream",
     "text": [
      "Accuracy:  0.8873517786561265\n",
      "Prediction:  cats\n"
     ]
    },
    {
     "data": {
      "image/png": "[encoded data removed]",
      "text/plain": [
       "<Figure size 640x480 with 1 Axes>"
      ]
     },
     "metadata": {},
     "output_type": "display_data"
    }
   ],
   "source": [
    "# #Model Training\n",
    "# model = SVC(C=1, kernel='poly', gamma='auto')\n",
    "# model.fit(xtrain, ytrain)\n",
    "\n",
    "# #Build Model and Save as model.sav\n",
    "# pick = open('model.sav', 'wb')\n",
    "# pickle.dump(model,  pick)\n",
    "# pick.close()\n",
    "\n",
    "#Read Model for Prediction\n",
    "pick =  open('model.sav', 'rb')\n",
    "model = pickle.load(pick)\n",
    "pick.close()\n",
    "\n",
    "#Create prediction and accuracy object for test\n",
    "prediction = model.predict(xtest)\n",
    "accuracy = model.score(xtest, ytest)\n",
    "\n",
    "#Divide 2 Categories Dataset\n",
    "categories = ['cats', 'dogs']\n",
    "\n",
    "#Display the Accuracy and the prediction of animal\n",
    "print('Accuracy: ', accuracy)\n",
    "print('Prediction: ', categories[prediction[0]])\n",
    "\n",
    "#Display pet image\n",
    "pet = xtest[0].reshape(50,50)\n",
    "plt.imshow(pet, cmap='gray')\n",
    "plt.show()\n"
   ]
  }
 ],
 "metadata": {
  "kernelspec": {
   "display_name": "Python 3 (ipykernel)",
   "language": "python",
   "name": "python3"
  },
  "language_info": {
   "codemirror_mode": {
    "name": "ipython",
    "version": 3
   },
   "file_extension": ".py",
   "mimetype": "text/x-python",
   "name": "python",
   "nbconvert_exporter": "python",
   "pygments_lexer": "ipython3",
   "version": "3.10.9"
  }
 },
 "nbformat": 4,
 "nbformat_minor": 5
}
