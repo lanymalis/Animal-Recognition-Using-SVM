{
 "cells": [
  {
   "cell_type": "markdown",
   "id": "fdedd7f3",
   "metadata": {},
   "source": [
    "Name: Lany Malis\n",
    "<br>\n",
    "Class: ITE-A\n",
    "<br>\n",
    "Project: Animal Recognition Using Super Vector Machine\n",
    "<br>\n",
    "Step1: Preprocessing "
   ]
  },
  {
   "cell_type": "markdown",
   "id": "3a38a00c",
   "metadata": {},
   "source": [
    "# Animal Recognition Using Super Vector Machine"
   ]
  },
  {
   "cell_type": "markdown",
   "id": "20e7f90b",
   "metadata": {},
   "source": [
    "Animal Recognition is a process of recognize the animal image by using the machine learning algorithms. In this implement, we will use Super Vector Machine algorithms which is making for image classification and it is used with data in vector form only. By this, we need Scikit-learn which is an open-source library that has various of feature such as classification, regression, clustering and including Super Vector Machine algorithms."
   ]
  },
  {
   "cell_type": "markdown",
   "id": "4eabb76d",
   "metadata": {},
   "source": [
    "## 1. Library"
   ]
  },
  {
   "cell_type": "markdown",
   "id": "8fc1c888",
   "metadata": {},
   "source": [
    "- os : for interacting with file and directory\n",
    "- numpy : for numerical computing and multi-dimensional arrays\n",
    "- cv2 : for image processing\n",
    "- matplotlib : for Visualization Data such as plot, line, graph..\n",
    "- pickle : for saving and loading model"
   ]
  },
  {
   "cell_type": "code",
   "execution_count": 12,
   "id": "afe32eff",
   "metadata": {},
   "outputs": [],
   "source": [
    "import os                         \n",
    "import numpy as np                \n",
    "import cv2                       \n",
    "import matplotlib.pyplot as plt   \n",
    "import pickle                     "
   ]
  },
  {
   "cell_type": "markdown",
   "id": "4292df87",
   "metadata": {},
   "source": [
    "## 2. Data Loading"
   ]
  },
  {
   "cell_type": "markdown",
   "id": "9856ab3d",
   "metadata": {},
   "source": [
    "In this section, we will load dataset for this implement. First, we direct to dataset loacation path. Second, we divide the categories as the folder in dataset. Last, we create list array for storing image and label."
   ]
  },
  {
   "cell_type": "code",
   "execution_count": 21,
   "id": "d90c3396",
   "metadata": {},
   "outputs": [],
   "source": [
    "#Define Path of Data set store in Directory (dir)\n",
    "dir = r'C:\\Users\\User\\Desktop\\Recognition\\CatDog\\test_set'"
   ]
  },
  {
   "cell_type": "code",
   "execution_count": 22,
   "id": "5281392e",
   "metadata": {},
   "outputs": [],
   "source": [
    "#Divide categories of Dataset\n",
    "categories = ['cats', 'dogs']"
   ]
  },
  {
   "cell_type": "code",
   "execution_count": 23,
   "id": "2f6b6788",
   "metadata": {},
   "outputs": [],
   "source": [
    "#Create data arrays for storing image and label \n",
    "data = []"
   ]
  },
  {
   "cell_type": "markdown",
   "id": "ceaec3ea",
   "metadata": {},
   "source": [
    "## 3. Image Preprocessing"
   ]
  },
  {
   "cell_type": "markdown",
   "id": "f8fcae5f",
   "metadata": {},
   "source": [
    "For image processing, we do resize image to 50*50 pixel and convert the input data into vector form since SVM only works with 1-dimensional array by using flatten then add image to our Data list."
   ]
  },
  {
   "cell_type": "code",
   "execution_count": 24,
   "id": "cfe707bf",
   "metadata": {},
   "outputs": [
    {
     "name": "stdout",
     "output_type": "stream",
     "text": [
      "2023\n"
     ]
    }
   ],
   "source": [
    "#Resharping image\n",
    "for category in categories:\n",
    "    #Create a new path which concatenate directory with category \n",
    "    path = os.path.join(dir, category)\n",
    "    #Determine the current index category in the list represent as numerical data\n",
    "    label = categories.index(category)\n",
    "    \n",
    "    for img in os.listdir(path):\n",
    "        imgpath = os.path.join(path, img)\n",
    "        #Read image\n",
    "        pet_img = cv2.imread(imgpath, 0)\n",
    "        try:\n",
    "            #Resize image to (50, 50)\n",
    "            pet_img = cv2.resize(pet_img, (50, 50))\n",
    "            #Converting from 2-dimensional to 1-dimensional array\n",
    "            #(Because SVM works with input data which is in vector form)\n",
    "            image = np.array(pet_img).flatten()\n",
    "            #Add image and label in Data\n",
    "            data.append([image, label])\n",
    "        except Exception as e:\n",
    "            pass\n",
    "#Display size image in data       \n",
    "print(len(data))"
   ]
  },
  {
   "cell_type": "markdown",
   "id": "80300654",
   "metadata": {},
   "source": [
    "## 4. Saving Model"
   ]
  },
  {
   "cell_type": "markdown",
   "id": "5d52b1a3",
   "metadata": {},
   "source": [
    "Finally, we save the data which is already do preprocessing."
   ]
  },
  {
   "cell_type": "code",
   "execution_count": 20,
   "id": "bd0a1e4b",
   "metadata": {},
   "outputs": [],
   "source": [
    "#Write the data to file after Resharping\n",
    "pick_in = open('data1.pickle', 'wb')  #Write data\n",
    "pickle.dump(data, pick_in)            #Save data to pickle file\n",
    "pick_in.close()"
   ]
  },
  {
   "cell_type": "markdown",
   "id": "7a24e12c",
   "metadata": {},
   "source": [
    "## 5. Reference"
   ]
  },
  {
   "cell_type": "markdown",
   "id": "d9ee118a",
   "metadata": {},
   "source": [
    "- Super Vector Machine: https://en.wikipedia.org/wiki/Support_vector_machine\n",
    "- Sklearn : https://en.wikipedia.org/wiki/Scikit-learn\n",
    "- Image Classification using SVM : https://youtu.be/0rjlviOQlbc"
   ]
  }
 ],
 "metadata": {
  "kernelspec": {
   "display_name": "Python 3 (ipykernel)",
   "language": "python",
   "name": "python3"
  },
  "language_info": {
   "codemirror_mode": {
    "name": "ipython",
    "version": 3
   },
   "file_extension": ".py",
   "mimetype": "text/x-python",
   "name": "python",
   "nbconvert_exporter": "python",
   "pygments_lexer": "ipython3",
   "version": "3.10.9"
  }
 },
 "nbformat": 4,
 "nbformat_minor": 5
}
